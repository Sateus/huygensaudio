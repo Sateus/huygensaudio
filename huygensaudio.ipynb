{
 "cells": [
  {
   "cell_type": "code",
   "execution_count": 1,
   "metadata": {},
   "outputs": [],
   "source": [
    "import numpy as np\n",
    "import soundfile as sf\n",
    "import matplotlib.pyplot as plt\n",
    "from scipy import signal, special, sparse\n",
    "import sympy"
   ]
  },
  {
   "cell_type": "markdown",
   "metadata": {},
   "source": [
    "Import der Audiodatei als Array"
   ]
  },
  {
   "cell_type": "code",
   "execution_count": 2,
   "metadata": {},
   "outputs": [],
   "source": [
    "y, sr = sf.read(\"Bach.wav\")"
   ]
  },
  {
   "cell_type": "markdown",
   "metadata": {},
   "source": [
    "Konstanten"
   ]
  },
  {
   "cell_type": "code",
   "execution_count": 3,
   "metadata": {},
   "outputs": [],
   "source": [
    "#Dimension\n",
    "n=1\n",
    "\n",
    "#Anzahl der Channel der Sounddatei, erwartet wird 1 oder 2\n",
    "channel=y.ndim\n",
    "\n",
    "#Geschwindigkeiten alle in m/s\n",
    "v=343  #Schalllgeschwindigkeit in Luft\n",
    "\n",
    "#Abstand Quelle und Emfänger zu Beginn in m\n",
    "r=10"
   ]
  },
  {
   "cell_type": "markdown",
   "metadata": {},
   "source": [
    "Wandelt den dreidimensionalen Schalldruck in f(t) um"
   ]
  },
  {
   "cell_type": "code",
   "execution_count": 4,
   "metadata": {},
   "outputs": [],
   "source": [
    "def entko(h):\n",
    "    return h*4*np.pi*r"
   ]
  },
  {
   "cell_type": "markdown",
   "metadata": {},
   "source": [
    "Wandelt wieder in den Druck in der entsprechenden Dimension zurück"
   ]
  },
  {
   "cell_type": "code",
   "execution_count": 5,
   "metadata": {},
   "outputs": [],
   "source": [
    "def verko(h):\n",
    "    if n == 1:\n",
    "        return h*v/2\n",
    "    if n % 2 == 0:\n",
    "        return (h*(-1)**(n/2-1)*(n+1)*(np.pi)**((n-1)/2) / (\n",
    "            4*(2*np.pi)**(n-1)*v**(n-2)*special.gamma((n+3)/2)))\n",
    "    else:\n",
    "        return (h*(-1)**((n-3)/2)*n*(np.pi)**((n-2)/2) / (\n",
    "            8*(2*np.pi)**(n-2)*v**(n-3)*r*special.gamma((n+2)/2)))"
   ]
  },
  {
   "cell_type": "markdown",
   "metadata": {},
   "source": [
    "Bestimmt die numerische Ableitung d-ter Ordnung"
   ]
  },
  {
   "cell_type": "code",
   "execution_count": 6,
   "metadata": {},
   "outputs": [],
   "source": [
    "def abl(self, d):\n",
    "    eit=self\n",
    "    for i in range(0, d):\n",
    "        eit=np.gradient(eit, 1/sr, edge_order=2)\n",
    "    return eit"
   ]
  },
  {
   "cell_type": "markdown",
   "metadata": {},
   "source": [
    "Faltungsfunktion"
   ]
  },
  {
   "cell_type": "code",
   "execution_count": 7,
   "metadata": {},
   "outputs": [],
   "source": [
    "def falt(self, theta, d):\n",
    " \n",
    "    if channel ==1:\n",
    "        zw11=signal.convolve(abl(entko(self),d),theta) #Diskrete Faltung mit Ableitung\n",
    "        zw21=zw11[:len(self)]/sr  #Die diskrete Faltung wird als Grenzfall der Faltung behandelt\n",
    "        lsg=verko(zw21)\n",
    "        \n",
    "    else:  #Wie im Mono-Fall, nur wird die Faltung auf beide Kanäle angewandt\n",
    "        zw11=signal.convolve(abl(entko(self[:,0]),d),theta)\n",
    "        zw12=signal.convolve(abl(entko(self[:,1]),d),theta)\n",
    "        zw21=zw11[:len(self)]/sr\n",
    "        zw22=zw12[:len(self)]/sr\n",
    "        lsg=np.empty([len(zw21),2])\n",
    "        lsg[:,0]=verko(zw21)\n",
    "        lsg[:,1]=verko(zw22)\n",
    "        \n",
    "    return lsg"
   ]
  },
  {
   "cell_type": "markdown",
   "metadata": {},
   "source": [
    "Effektivwert"
   ]
  },
  {
   "cell_type": "code",
   "execution_count": 8,
   "metadata": {},
   "outputs": [],
   "source": [
    "def effw(self):\n",
    "    return np.sqrt(np.mean(np.square(self)))"
   ]
  },
  {
   "cell_type": "markdown",
   "metadata": {},
   "source": [
    "### Dimensionenabhängige Fälle"
   ]
  },
  {
   "cell_type": "code",
   "execution_count": 30,
   "metadata": {},
   "outputs": [],
   "source": [
    "if n==1:\n",
    "    theta=np.ones(len(y)*2)  #Erstellt den zu f(t) zugehörigen Faltungskern für n=1\n",
    "    \n",
    "    lsg=falt(y, theta,0)\n",
    "    \n",
    "    #Mittelt die Werte des eindimensionalen Falls\n",
    "    f=5000  #Länge der Intervalle in die die Datei aufgeteilt wird\n",
    "    h=int(len(lsg)/f) #Anzahl an Intervallen in die die Datei aufgeteilt wird\n",
    "    if len(lsg)%f!=0:h+=1\n",
    "    if channel ==1:\n",
    "        for i in range(0,h):\n",
    "            lsg[i*f:(i+1)*f]=lsg[i*f:(i+1)*f]-np.mean(lsg[i*f:(i+1)*f])\n",
    "    else:\n",
    "        for i in range(0,h):\n",
    "            lsg[i*f:(i+1)*f,0]=lsg[i*f:(i+1)*f,0]-np.mean(lsg[i*f:(i+1)*f,0])\n",
    "            lsg[i*f:(i+1)*f,1]=lsg[i*f:(i+1)*f,1]-np.mean(lsg[i*f:(i+1)*f,1])"
   ]
  },
  {
   "cell_type": "code",
   "execution_count": 14,
   "metadata": {},
   "outputs": [],
   "source": [
    "if n%2==0:\n",
    "    theta=np.empty([len(y)])  #Erstellt den zu f(t) zugehörige Faltungskern für n%2=0\n",
    "    for i in range(0, len(theta)):\n",
    "        theta[i]=(i+1/2)/sr*((i+1/2)/sr+2*r/v)  \n",
    "        #T wird um 1/2 Indizes verschoben um die Singularität bei 0 zu umgehen\n",
    "    theta=1/np.sqrt(theta)\n",
    "    lsg=falt(y,theta, n-2)"
   ]
  },
  {
   "cell_type": "code",
   "execution_count": 10,
   "metadata": {},
   "outputs": [],
   "source": [
    "if n==3:\n",
    "    lsg=y"
   ]
  },
  {
   "cell_type": "code",
   "execution_count": 54,
   "metadata": {},
   "outputs": [],
   "source": [
    "if n%2!=0 and n>3:\n",
    "    if channel ==1:\n",
    "        lsg=verko(abl(entko(y),n-3))\n",
    "\n",
    "    else: \n",
    "        if channel ==2:\n",
    "            zw11=abl(entko(y[:,0]),n-3)\n",
    "            zw12=abl(entko(y[:,1]),n-3) \n",
    "            lsg=np.empty([len(y),2])\n",
    "            lsg[:,0]=verko(zw11)\n",
    "            lsg[:,1]=verko(zw12)"
   ]
  },
  {
   "cell_type": "markdown",
   "metadata": {},
   "source": [
    "Exportiert und normiert die resultierende Lösung"
   ]
  },
  {
   "cell_type": "code",
   "execution_count": 32,
   "metadata": {},
   "outputs": [],
   "source": [
    "norm=lsg/np.absolute(lsg).max()*0.99  #normalisiert die Lösung\n",
    "sf.write('1d.wav', norm, sr)  #erstellt eine neue Audiodatei im Ordner"
   ]
  },
  {
   "cell_type": "markdown",
   "metadata": {},
   "source": [
    "Plot der Lösung"
   ]
  },
  {
   "cell_type": "code",
   "execution_count": 33,
   "metadata": {},
   "outputs": [
    {
     "data": {
      "image/png": "[encoded data removed]",
      "text/plain": [
       "<Figure size 432x288 with 1 Axes>"
      ]
     },
     "metadata": {
      "needs_background": "light"
     },
     "output_type": "display_data"
    }
   ],
   "source": [
    "t = np.arange(0, len(lsg)/sr, 1/sr)\n",
    "plt.plot(t, lsg)  #plot\n",
    "plt.xlabel('Zeit in s')\n",
    "plt.ylabel('Amplitude')\n",
    "plt.show()  #show plot"
   ]
  },
  {
   "cell_type": "markdown",
   "metadata": {},
   "source": [
    "Plot der ursprünglichen Datei"
   ]
  },
  {
   "cell_type": "code",
   "execution_count": 11,
   "metadata": {},
   "outputs": [
    {
     "data": {
      "image/png": "[encoded data removed]",
      "text/plain": [
       "<Figure size 432x288 with 1 Axes>"
      ]
     },
     "metadata": {
      "needs_background": "light"
     },
     "output_type": "display_data"
    }
   ],
   "source": [
    "t = np.arange(0, len(y)/sr, 1/sr)\n",
    "plt.plot(t,y)  #plot\n",
    "plt.xlabel('Zeit in s')\n",
    "plt.ylabel('Amplitude')\n",
    "plt.show()  #show plot"
   ]
  },
  {
   "cell_type": "markdown",
   "metadata": {},
   "source": [
    "Differenz der Schalldruckpegel in dB"
   ]
  },
  {
   "cell_type": "code",
   "execution_count": 34,
   "metadata": {},
   "outputs": [
    {
     "name": "stdout",
     "output_type": "stream",
     "text": [
      "25.950667793381108\n"
     ]
    }
   ],
   "source": [
    "print(20*np.log10(effw(lsg)/effw(y)))"
   ]
  }
 ],
 "metadata": {
  "kernelspec": {
   "display_name": "Python 3",
   "language": "python",
   "name": "python3"
  },
  "language_info": {
   "codemirror_mode": {
    "name": "ipython",
    "version": 3
   },
   "file_extension": ".py",
   "mimetype": "text/x-python",
   "name": "python",
   "nbconvert_exporter": "python",
   "pygments_lexer": "ipython3",
   "version": "3.8.5"
  }
 },
 "nbformat": 4,
 "nbformat_minor": 4
}
